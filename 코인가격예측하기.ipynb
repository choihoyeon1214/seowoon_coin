{
  "nbformat": 4,
  "nbformat_minor": 0,
  "metadata": {
    "colab": {
      "provenance": [],
      "authorship_tag": "ABX9TyM9UmtAcsh3kra/xYUMG3/a",
      "include_colab_link": true
    },
    "kernelspec": {
      "name": "python3",
      "display_name": "Python 3"
    },
    "language_info": {
      "name": "python"
    }
  },
  "cells": [
    {
      "cell_type": "markdown",
      "metadata": {
        "id": "view-in-github",
        "colab_type": "text"
      },
      "source": [
        "<a href=\"https://colab.research.google.com/github/choihoyeon1214/seowoon_coin/blob/main/%EC%BD%94%EC%9D%B8%EA%B0%80%EA%B2%A9%EC%98%88%EC%B8%A1%ED%95%98%EA%B8%B0.ipynb\" target=\"_parent\"><img src=\"https://colab.research.google.com/assets/colab-badge.svg\" alt=\"Open In Colab\"/></a>"
      ]
    },
    {
      "cell_type": "code",
      "source": [
        " !python --version #버전확인"
      ],
      "metadata": {
        "id": "iS5ME1yijX90"
      },
      "execution_count": null,
      "outputs": []
    },
    {
      "cell_type": "code",
      "source": [
        "  !wget https://www.python.org/ftp/python/3.7.1/Python-3.7.1.tgz\n",
        "  !tar xvfz Python-3.7.1.tgz\n",
        "  !Python-3.7.1/configure\n",
        "  !make\n",
        "  !sudo make install #파이썬 다운그레이드"
      ],
      "metadata": {
        "id": "N01dsaziZBz2"
      },
      "execution_count": null,
      "outputs": []
    },
    {
      "cell_type": "code",
      "source": [
        " !python --version #버전확인"
      ],
      "metadata": {
        "id": "UOHlVvOEZf2S"
      },
      "execution_count": null,
      "outputs": []
    },
    {
      "cell_type": "code",
      "source": [
        "import numpy as np\n",
        "import pandas as pd\n",
        "import matplotlib.pyplot as plt\n",
        "from pandas_datareader import data as pdr\n",
        "import yfinance as yf\n",
        "import tensorflow as tf\n",
        "from tensorflow.keras import Sequential\n",
        "from tensorflow.keras.layers import Dense, LSTM, Dropout #필요한 라이브러리 설치"
      ],
      "metadata": {
        "id": "K2-bRygwawLh"
      },
      "execution_count": null,
      "outputs": []
    },
    {
      "cell_type": "code",
      "source": [
        "def StockData(code, start_date):\n",
        "    try:\n",
        "        yf.pdr_override()\n",
        "        df = pdr.get_data_yahoo(f'{code}', start=f'{start_date}')\n",
        "        df = df[['Open', 'High', 'Low', 'Volume', 'Close']]\n",
        "        return df\n",
        "    except Exception as e:\n",
        "        print(f\"Error fetching data for {code}: {e}\")\n",
        "        return None #데이터수집"
      ],
      "metadata": {
        "id": "Cq8fTt9-axzp"
      },
      "execution_count": null,
      "outputs": []
    },
    {
      "cell_type": "code",
      "source": [
        "stock_code = input(\"Enter the stock code (ex Apple-AAPL samsung-005930.KS): \").strip()\n",
        "start_date = input(\"Enter the start date (2020-01-01): \").strip()\n",
        "\n",
        "df = StockData(stock_code, start_date)  #데이터수집\n",
        "if df is not None:\n",
        "    print(df.head())\n",
        "else:\n",
        "    print(\"Failed to retrieve data.\")\n",
        "    exit()"
      ],
      "metadata": {
        "id": "7zS1mYUNayky"
      },
      "execution_count": null,
      "outputs": []
    },
    {
      "cell_type": "code",
      "source": [
        "def MinMaxScaler(data):\n",
        "    numerator = data - np.min(data, 0)\n",
        "    denominator = np.max(data, 0) - np.min(data, 0)\n",
        "    return numerator / (denominator + 1e-7)     #알고리즘 성능개선"
      ],
      "metadata": {
        "id": "ZF8WZozOa07x"
      },
      "execution_count": null,
      "outputs": []
    },
    {
      "cell_type": "code",
      "source": [
        "df_x = MinMaxScaler(df)\n",
        "df_y = df_x[['Close']]\n",
        "\n",
        "x = df_x.values.tolist()\n",
        "y = df_y.values.tolist()"
      ],
      "metadata": {
        "id": "PZjZg6Pha2HZ"
      },
      "execution_count": null,
      "outputs": []
    },
    {
      "cell_type": "code",
      "source": [
        "df_x.info()"
      ],
      "metadata": {
        "id": "jQ20K-8Ea25R"
      },
      "execution_count": null,
      "outputs": []
    },
    {
      "cell_type": "code",
      "source": [
        "df_y.info()"
      ],
      "metadata": {
        "id": "YhXCk1Qsa3qy"
      },
      "execution_count": null,
      "outputs": []
    },
    {
      "cell_type": "code",
      "source": [
        "x[-1]"
      ],
      "metadata": {
        "id": "aC2clLiGa8-i"
      },
      "execution_count": null,
      "outputs": []
    },
    {
      "cell_type": "code",
      "source": [
        "y[-1]"
      ],
      "metadata": {
        "id": "IecFOGzfa95p"
      },
      "execution_count": null,
      "outputs": []
    },
    {
      "cell_type": "code",
      "source": [
        "data_x = []\n",
        "data_y = []\n",
        "window_size = 10     #데이터 준비\n",
        "for i in range(len(y) - window_size):\n",
        "    x2 = x[i : i + window_size]\n",
        "    y2 = y[i + window_size]\n",
        "    data_x.append(x2)\n",
        "    data_y.append(y2)\n",
        "print(\"이전 10일 동안 OHLVC : \", x2, \"\\n다음 날 종가 : \", y2)"
      ],
      "metadata": {
        "id": "tw_LtxNna-nR"
      },
      "execution_count": null,
      "outputs": []
    },
    {
      "cell_type": "code",
      "source": [
        "# 훈련용 데이터\n",
        "train_size = int(len(data_y) * 0.7)\n",
        "train_x = np.array(data_x[0:train_size])\n",
        "train_y = np.array(data_y[0:train_size])\n",
        "\n",
        "# 테스트용 데이터\n",
        "test_size = len(data_y) - train_size\n",
        "test_x = np.array(data_x[train_size:len(data_x)])\n",
        "test_y = np.array(data_y[train_size:len(data_y)])"
      ],
      "metadata": {
        "id": "aY55eBwya_hp"
      },
      "execution_count": null,
      "outputs": []
    },
    {
      "cell_type": "code",
      "source": [
        "model = Sequential()\n",
        "model.add(LSTM(units=10, activation='relu', return_sequences=True, input_shape=(window_size, 5)))     #모델생성\n",
        "model.add(Dropout(0.1))\n",
        "model.add(LSTM(units=10, activation='relu'))\n",
        "model.add(Dropout(0.1))\n",
        "model.add(Dense(units=1))\n",
        "model.summary()\n",
        "\n",
        "model.compile(optimizer='adam', loss='mean_squared_error')\n",
        "model.fit(train_x, train_y, epochs=60, batch_size=30)\n",
        "pred_y = model.predict(test_x)"
      ],
      "metadata": {
        "id": "jbxNYks2bAeo"
      },
      "execution_count": null,
      "outputs": []
    },
    {
      "cell_type": "code",
      "source": [
        "plt.figure()\n",
        "#plt.plot(test_y, color='r', label='real stock price')\n",
        "plt.plot(pred_y, color='b', label='predicted stock price')\n",
        "#plt.title('Real Stock Price vs Predicted Stock Price')\n",
        "plt.xlabel('time')\n",
        "plt.ylabel('stock price')\n",
        "plt.legend(loc='best')\n",
        "plt.show() #그래프"
      ],
      "metadata": {
        "id": "dk3CL6LHbBfh"
      },
      "execution_count": null,
      "outputs": []
    }
  ]
}
